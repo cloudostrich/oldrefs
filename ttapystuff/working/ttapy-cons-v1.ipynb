{
 "cells": [
  {
   "cell_type": "code",
   "execution_count": 1,
   "metadata": {
    "collapsed": true
   },
   "outputs": [],
   "source": [
    "import clr\n",
    "import sys\n",
    "import pandas as pd"
   ]
  },
  {
   "cell_type": "code",
   "execution_count": 2,
   "metadata": {},
   "outputs": [
    {
     "data": {
      "text/plain": [
       "<System.Reflection.RuntimeAssembly at 0x9d0fc88>"
      ]
     },
     "execution_count": 2,
     "metadata": {},
     "output_type": "execute_result"
    }
   ],
   "source": [
    "# Add ttapi c# libraries\n",
    "sys.path.append(r'C:\\tt\\ttapi\\bin')\n",
    "clr.AddReference('TradingTechnologies.TTAPI')"
   ]
  },
  {
   "cell_type": "code",
   "execution_count": 3,
   "metadata": {
    "collapsed": true
   },
   "outputs": [],
   "source": [
    "# C# libraries imports\n",
    "from System import Object, Action, Threading, ValueType, Enum\n",
    "import TradingTechnologies.TTAPI as ttapi"
   ]
  },
  {
   "cell_type": "code",
   "execution_count": null,
   "metadata": {
    "collapsed": true
   },
   "outputs": [],
   "source": []
  },
  {
   "cell_type": "code",
   "execution_count": null,
   "metadata": {
    "collapsed": true
   },
   "outputs": [],
   "source": []
  },
  {
   "cell_type": "code",
   "execution_count": null,
   "metadata": {},
   "outputs": [],
   "source": [
    "# Main class for connecting to ttapi\n",
    "#class TTAPIFunctions(IDisposable):\n",
    "class TTAPIReadPx():\n",
    "    \"\"\"\n",
    "    <summary>\n",
    "    Main TT API class\n",
    "    </summary>\n",
    "    \"\"\"\n",
    "    def __init__(self):\n",
    "        self.m_apiInstance = None\n",
    "        self.m_disp = None\n",
    "        self.m_disposed = False\n",
    "        #self.m_lock = Object()\n",
    "        self.m_req = None\n",
    "        self.m_ps = None\n",
    "        self.CACHE = {}\n",
    "        self.STORE = 'storetest1.h5'\n",
    "\n",
    "    def process_row(self, d, key, max_len=50, _cache = 'c'):\n",
    "        \"\"\"\n",
    "            Creates a dict with key holding a list of dicts of tick data\n",
    "        Append row d to the store 'key'.\n",
    "\n",
    "        When the number of items in the key's cache reaches max_len,\n",
    "        append the list of rows to the HDF5 store and clear the list.\n",
    "        \"\"\"\n",
    "        # keep the rows for each key separate.\n",
    "##        lst = self.CACHE.setdefault(key, []) #set default key for dict CACHE\n",
    "##        if len(lst) >= max_len:\n",
    "##            store_and_clear(lst, key)\n",
    "##        lst.append(d)\n",
    "        print(d)\n",
    "        print(key)\n",
    "        print(max_len)\n",
    "\n",
    "    def store_and_clear(self, lst, key):\n",
    "        \"\"\"\n",
    "        Convert key's cache list to a DataFrame and append that to HDF5.\n",
    "        \"\"\"\n",
    "        df = pd.DataFrame(lst)\n",
    "        df.set_index(['time'], inplace = True)\n",
    "        with pd.HDFStore(self.STORE) as store:\n",
    "            store.append(key, df)\n",
    "        lst.clear()\n",
    "\n",
    "    def get_latest(self, key):\n",
    "        store_and_clear(self.CACHE[key], key)\n",
    "        with pd.HDFStore(STORE) as store:\n",
    "            return store[key]\n",
    "\n",
    "\n",
    "    def test1(self):\n",
    "        for k, lst in self.CACHE.items():  # you can instead use .iteritems() in python 2\n",
    "            store_and_clear(lst, k)\n",
    "\n",
    "    def Start(self):\n",
    "        \"\"\"\n",
    "        <summary>\n",
    "        Create and start the Dispatcher\n",
    "        </summary>\n",
    "        \"\"\"\n",
    "        # Attach a WorkerDispatcher to the current thread\n",
    "        self.m_disp = ttapi.Dispatcher.AttachWorkerDispatcher()\n",
    "        self.m_disp.BeginInvoke(Action(self.Init))\n",
    "        self.m_disp.Run()\n",
    "\n",
    "    def Init(self):\n",
    "        \"\"\"\n",
    "        <summary>\n",
    "        Initialize TT API\n",
    "        </summary>\n",
    "        \"\"\"\n",
    "        # Use \"XTraderMode Login\" Login Mode\n",
    "        h = ttapi.ApiInitializeHandler(self.ttApiInitComplete)\n",
    "        ttapi.TTAPI.CreateXTraderModeTTAPI(ttapi.Dispatcher.Current, h)\n",
    "\n",
    "    def ttApiInitComplete(self, api, ex):\n",
    "        \"\"\" <summary>\n",
    "        Event notification for status of TT API initialization\n",
    "        </summary>\n",
    "        \"\"\"\n",
    "        if ex == None:\n",
    "            # Authenticate your credentials\n",
    "            self.m_apiInstance = api\n",
    "            self.m_apiInstance.ConnectionStatusUpdate += self.m_apiInstance_ConnectionStatusUpdate\n",
    "            self.m_apiInstance.Start()\n",
    "        else:\n",
    "            print(\"TT API Initialization Failed: {0}\".format(ex.Message))\n",
    "            self.Dispose()\n",
    "\n",
    "    def m_apiInstance_ConnectionStatusUpdate(self, sender, e):\n",
    "        \"\"\"\n",
    "        <summary>\n",
    "\t\t Event notification for status of authentication\n",
    "\t\t </summary>\n",
    "        \"\"\"\n",
    "        if e.Status.IsSuccess:\n",
    "            # Add code here to begin working with the TT API\n",
    "            # lookup an instrument\n",
    "            self.m_req = ttapi.InstrumentLookupSubscription(self.m_apiInstance.Session, \n",
    "                                                            ttapi.Dispatcher.Current, \n",
    "                                                            ttapi.ProductKey(ttapi.MarketKey.Sgx, \n",
    "                                                                             ttapi.ProductType.Future, \n",
    "                                                                             \"NK\"), \n",
    "                                                            \"Jun17\")\n",
    "            \n",
    "            self.m_req.Update += self.m_req_Update\n",
    "            print(\"Connection Success!\")\n",
    "            self.m_req.Start()\n",
    "        else:\n",
    "            print(\"TT Login failed: {0}\".format(e.Status.StatusMessage))\n",
    "            self.Dispose()\n",
    "\n",
    "    def m_req_Update(self, sender, e):\n",
    "        \"\"\"\n",
    "        <summary>\n",
    "\t\t Event notification for instrument lookup\n",
    "\t\t </summary>\n",
    "        \"\"\"\n",
    "        if e.Instrument != None and e.Error == None:\n",
    "            # Instrument was found\n",
    "            print(\"Found: {0}\".format(e.Instrument.Name))\n",
    "            # Subscribe for Inside Market Data\n",
    "            self.m_ps = ttapi.PriceSubscription(e.Instrument, ttapi.Dispatcher.Current)\n",
    "            self.m_ps.Settings = ttapi.PriceSubscriptionSettings(ttapi.PriceSubscriptionType.InsideMarket)\n",
    "            self.m_ps.FieldsUpdated += self.m_ps_FieldsUpdated\n",
    "            self.m_ps.Start()\n",
    "        elif e.IsFinal:\n",
    "            # Instrument was not found and TT API has given up looking for it\n",
    "            print(\"Cannot find instrument: {0}\".format(e.Error.Message))\n",
    "            self.Dispose()\n",
    "\n",
    "    def m_ps_FieldsUpdated(self, sender, e):\n",
    "        \"\"\"\n",
    "        <summary>\n",
    "\t\t Event notification for price update\n",
    "\t\t </summary>\n",
    "        \"\"\"\n",
    "        ltp = e.Fields.GetLastTradedPriceField()\n",
    "        ltq = e.Fields.GetLastTradedQuantityField()\n",
    "        print(\"ltp and ltq success...\")\n",
    "        if ltp.HasChanged or ltq.HasChanged:\n",
    "            print(ltp.Value, ltq.Value)\n",
    "            ltp = ltp.Value\n",
    "            ltpi = int(ltp.ToTicks())\n",
    "            self.process_row({'time' :pd.datetime.now(), 'close' : ltpi}, key = \"nk\")\n",
    "        \n",
    "\n",
    "    def Dispose(self):\n",
    "        \"\"\"\n",
    "        <summary>\n",
    "        Shuts down the TT API\n",
    "        </summary>\n",
    "        \"\"\"\n",
    "        if not self.m_disposed:\n",
    "            if (self.m_req != None):\n",
    "                self.m_req.Update -= self.m_req_Update\n",
    "                self.m_req.Dispose()\n",
    "                self.m_req = None\n",
    "            if (self.m_ps != None):\n",
    "                self.m_ps.FieldsUpdated -= self.m_ps_FieldsUpdated\n",
    "                self.m_ps.Dispose()\n",
    "                self.m_ps = None\n",
    "        #Begin shutdown the TT API\n",
    "        ttapi.TTAPI.ShutdownCompleted += self.TTAPI_ShutdownCompleted\n",
    "        ttapi.TTAPI.Shutdown()\n",
    "        self.m_disposed = True\n",
    "\n",
    "\t# Unattached callbacks and dispose of all subscriptions\n",
    "\t# Begin shutdown the TT API\n",
    "    def TTAPI_ShutdownCompleted(self, sender, e):\n",
    "        \"\"\" <summary>\n",
    "\t\t Event notification for completion of TT API shutdown\n",
    "\t\t </summary>\n",
    "        \"\"\"\n",
    "        # Shutdown the Dispatcher\n",
    "        if self.m_disp != None:\n",
    "            self.m_disp.BeginInvokeShutdown()\n",
    "            self.m_disp = None"
   ]
  },
  {
   "cell_type": "code",
   "execution_count": null,
   "metadata": {
    "scrolled": true
   },
   "outputs": [
    {
     "name": "stdout",
     "output_type": "stream",
     "text": [
      "Connection Success!\n"
     ]
    }
   ],
   "source": [
    "tr = TTAPIReadPx()\n",
    "tr.Start()"
   ]
  },
  {
   "cell_type": "code",
   "execution_count": null,
   "metadata": {
    "collapsed": true
   },
   "outputs": [],
   "source": []
  }
 ],
 "metadata": {
  "kernelspec": {
   "display_name": "Python 3",
   "language": "python",
   "name": "python3"
  },
  "language_info": {
   "codemirror_mode": {
    "name": "ipython",
    "version": 3
   },
   "file_extension": ".py",
   "mimetype": "text/x-python",
   "name": "python",
   "nbconvert_exporter": "python",
   "pygments_lexer": "ipython3",
   "version": "3.6.2"
  }
 },
 "nbformat": 4,
 "nbformat_minor": 2
}
